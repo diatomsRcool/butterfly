{
 "cells": [
  {
   "cell_type": "code",
   "execution_count": 1,
   "metadata": {
    "collapsed": false
   },
   "outputs": [],
   "source": [
    "in_file = open('butterfly_taxa.txt', 'r')\n",
    "\n",
    "#This code can answer the question, \"What is the equivalent of Taxon A from List 1 in List 2?\n",
    "# Enter inside the quotes: 1) the full binomial or trinomial for the taxon you are starting with\n",
    "# 2) the list you are starting with, and 3) the list you are ending with\n",
    "taxon = 'Erynnis funeralis'\n",
    "start_list = 'Ohio'\n",
    "end_list = 'Florida'\n",
    "\n",
    "#This dictionary links the abbreviated list names with the full names in the data file.\n",
    "#You don't have to do anything with this\n",
    "dict = { 'ITIS':'Integrated Taxonomic Integration System (https://www.itis.gov/)',\n",
    "'Pelham':'Pelham, J.P., 2014. A catalogue of the butterflies of the United States and Canada: with a complete bibliography of the descriptive and systematic literature.',\n",
    "'NABA':'North American Butterfly Association, Inc. 2001-2016.  Checklist of North American Butterflies. Occurring North of Mexico - Edition 2.3  http://www.naba.org/pubs/enames2_3.html.',\n",
    "'OW':'Opler, P.A. and A.D. Warren, 2005. Lepidoptera of North America. 4. Scientific Names List for Butterfly Species of North America, north of Mexico. Contributions of the C. P. Gillette Museum of Arthropod Diversity, Colorado State University. 79pp.',\n",
    "'Illinois':'Illinois Butterfly Monitoring Network',\n",
    "'Michigan':'Michigan Butterfly Network',\n",
    "'MPG':'MPG Ranch Butterfly Monitoring Network',\n",
    "'Colorado':'Colorado Butterfly Monitoring Network',\n",
    "'Tennessee':'Tennessee Butterfly Monitoring Network',\n",
    "'Orange':'Orange County Butterfly Monitoring Network',\n",
    "'Ohio':'Ohio Butterfly Monitoring Network',\n",
    "'Cascades':'Cascades Butterfly Project',\n",
    "'Iowa':'Iowa Butterfly Survey Network',\n",
    "'Florida':'Florida Butterfly Monitoring Network'\n",
    "}\n",
    "\n",
    "#This dictionary links each project with its base list\n",
    "#You don't have to do anything with this.\n",
    "base = {'Illinois':'NABA',\n",
    "'Michigan':'NABA',\n",
    "'MPG':'Pelham',\n",
    "'Colorado':'OW',\n",
    "'Tennessee':'NABA',\n",
    "'Orange':'OW',\n",
    "'Ohio':'NABA',\n",
    "'Cascades':'Pelham',\n",
    "'Iowa':'NABA',\n",
    "'Florida':'OW'\n",
    "}\n",
    "\n",
    "#This creates all the tables we need. You don't need to do anything with this.\n",
    "taxon_ids = []\n",
    "names = []\n",
    "parent_ids = []\n",
    "parent_ids_1 = []"
   ]
  },
  {
   "cell_type": "code",
   "execution_count": 2,
   "metadata": {
    "collapsed": false
   },
   "outputs": [
    {
     "name": "stdout",
     "output_type": "stream",
     "text": [
      "Erynnis funeralis\n",
      "Ohio Butterfly Monitoring Network\n",
      "['T4152']\n"
     ]
    }
   ],
   "source": [
    "#This bit of code finds the parent id of the taxon in the starting project list.\n",
    "#At the bottom of this block, you should see the taxon and starting project list you entered above.\n",
    "found_name = 0\n",
    "found_source = 0\n",
    "print taxon\n",
    "for line in in_file:\n",
    "    row = line.split('\\t')\n",
    "    n = len(row)\n",
    "    if len(row) > 4:\n",
    "        taxon_id = row[0]\n",
    "        name = row[1]\n",
    "        parent_id = row[2]\n",
    "        source = row[4].strip()\n",
    "        if name == taxon:\n",
    "            found_name = 1\n",
    "            if source == dict[start_list]:\n",
    "                print source\n",
    "                found_source = 1\n",
    "                parent_ids.append(parent_id)\n",
    "print parent_ids\n",
    "if found_name == 0:\n",
    "    print 'Error Taxon not found. Please check spelling and try again.'\n",
    "if found_source == 0:\n",
    "    print 'Error Starting project not found. Please use one of the following: ITIS, Pelham, OW, Illinois, Michigan, MPG, Colorado, Tennessee, Orange, Ohio, Cascades, Florida, Iowa.'"
   ]
  },
  {
   "cell_type": "code",
   "execution_count": 3,
   "metadata": {
    "collapsed": false
   },
   "outputs": [
    {
     "name": "stdout",
     "output_type": "stream",
     "text": [
      "North American Butterfly Association, Inc. 2001-2016.  Checklist of North American Butterflies. Occurring North of Mexico - Edition 2.3  http://www.naba.org/pubs/enames2_3.html.\n",
      "\n",
      "['T1655']\n"
     ]
    }
   ],
   "source": [
    "#This code finds the taxon in the base list\n",
    "#At the end of this block, you should see the base list corresponding to your starting project list\n",
    "found_base = 0\n",
    "for id in parent_ids:\n",
    "    in_file.seek(0)\n",
    "    for line in in_file:\n",
    "        row = line.split('\\t')\n",
    "        taxon_id = row[0]\n",
    "        name = row[1]\n",
    "        parent_id = row[2]\n",
    "        if len(row) > 4:\n",
    "            source = row[4]\n",
    "        if id == taxon_id:\n",
    "            found_base = 1\n",
    "            print source\n",
    "            parent_ids_1.append(parent_id)\n",
    "print parent_ids_1\n",
    "if found_base == 0:\n",
    "    print 'Error finding base list'\n"
   ]
  },
  {
   "cell_type": "code",
   "execution_count": 4,
   "metadata": {
    "collapsed": false
   },
   "outputs": [
    {
     "name": "stdout",
     "output_type": "stream",
     "text": [
      "Opler, P.A. and A.D. Warren, 2005. Lepidoptera of North America. 4. Scientific Names List for Butterfly Species of North America, north of Mexico. Contributions of the C. P. Gillette Museum of Arthropod Diversity, Colorado State University. 79pp.\n",
      "['T4956']\n"
     ]
    }
   ],
   "source": [
    "#This code uses the switchboard to find the taxon in the base list of the ending project list.\n",
    "#At the end of this block, you should see the base list for your ending project list.\n",
    "found_switch = 0\n",
    "for id in parent_ids_1:\n",
    "    in_file.seek(0)\n",
    "    for line in in_file:\n",
    "        row = line.split('\\t')\n",
    "        taxon_id = row[0]\n",
    "        name = row[1]\n",
    "        parent_id = row[2]\n",
    "        if len(row) > 4:\n",
    "            source = row[4].strip()\n",
    "        if id == parent_id:\n",
    "            found_switch = 1\n",
    "            if source == dict[base[end_list]]:\n",
    "                print source\n",
    "                taxon_ids.append(taxon_id)\n",
    "print taxon_ids\n",
    "if found_switch == 0:\n",
    "    print 'Error switching bases'\n"
   ]
  },
  {
   "cell_type": "code",
   "execution_count": 5,
   "metadata": {
    "collapsed": false
   },
   "outputs": [
    {
     "name": "stdout",
     "output_type": "stream",
     "text": [
      "Florida Butterfly Monitoring Network\n",
      "['Erynnis funeralis']\n"
     ]
    }
   ],
   "source": [
    "#This code uses the taxon id of the taxon in the base list to find the corresponding taxon in the ending project list.\n",
    "#At the end of this block, you should see your ending project list and one or more names that are equivalent to your\n",
    "#taxon in the starting project list.\n",
    "found_name = 0\n",
    "for id in taxon_ids:\n",
    "    in_file.seek(0)\n",
    "    for line in in_file:\n",
    "        row = line.split('\\t')\n",
    "        taxon_id = row[0]\n",
    "        name = row[1]\n",
    "        parent_id = row[2]\n",
    "        if len(row) > 4:\n",
    "            source = row[4].strip()\n",
    "        if id == parent_id:\n",
    "            if source == dict[end_list]:\n",
    "                print source\n",
    "                found_name = 1\n",
    "                names.append(name)\n",
    "print names\n",
    "if found_name == 0:\n",
    "    print 'Error finding end name'\n"
   ]
  },
  {
   "cell_type": "code",
   "execution_count": null,
   "metadata": {
    "collapsed": true
   },
   "outputs": [],
   "source": []
  }
 ],
 "metadata": {
  "kernelspec": {
   "display_name": "Python 2",
   "language": "python",
   "name": "python2"
  },
  "language_info": {
   "codemirror_mode": {
    "name": "ipython",
    "version": 2
   },
   "file_extension": ".py",
   "mimetype": "text/x-python",
   "name": "python",
   "nbconvert_exporter": "python",
   "pygments_lexer": "ipython2",
   "version": "2.7.11"
  }
 },
 "nbformat": 4,
 "nbformat_minor": 0
}
