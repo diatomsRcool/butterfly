{
 "cells": [
  {
   "cell_type": "code",
   "execution_count": 203,
   "metadata": {
    "collapsed": false
   },
   "outputs": [],
   "source": [
    "in_file = open('butterfly_taxa.txt', 'r')\n",
    "\n",
    "#This code can answer the question, \"What is the equivalent of Taxon A from List 1 in List 2?\n",
    "# Enter inside the quotes: 1) the full binomial or trinomial for the taxon you are starting with\n",
    "# 2) the list you are starting with, 3) the list you are ending with, and 4) whether you want\n",
    "#high or low granularity in your results\n",
    "taxon = 'Celastrina ladon'\n",
    "start_list = 'Iowa'\n",
    "end_list = 'Cascades'\n",
    "granularity = 'split' #write 'lump' or 'split' here\n",
    "\n",
    "#This dictionary links the abbreviated list names with the full names in the data file.\n",
    "#You don't have to do anything with this\n",
    "source_dict = { 'ITIS':'Integrated Taxonomic Integration System (https://www.itis.gov/)',\n",
    "'Pelham':'Pelham, J.P., 2014. A catalogue of the butterflies of the United States and Canada: with a complete bibliography of the descriptive and systematic literature.',\n",
    "'NABA':'North American Butterfly Association, Inc. 2001-2016.  Checklist of North American Butterflies. Occurring North of Mexico - Edition 2.3  http://www.naba.org/pubs/enames2_3.html.',\n",
    "'OW':'Opler, P.A. and A.D. Warren, 2005. Lepidoptera of North America. 4. Scientific Names List for Butterfly Species of North America, north of Mexico. Contributions of the C. P. Gillette Museum of Arthropod Diversity, Colorado State University. 79pp.',\n",
    "'Illinois':'Illinois Butterfly Monitoring Network',\n",
    "'Michigan':'Michigan Butterfly Network',\n",
    "'MPG':'MPG Ranch Butterfly Monitoring Network',\n",
    "'Colorado':'Colorado Butterfly Monitoring Network',\n",
    "'Tennessee':'Tennessee Butterfly Monitoring Network',\n",
    "'Orange':'Orange County Butterfly Monitoring Network',\n",
    "'Ohio':'Ohio Butterfly Monitoring Network',\n",
    "'Cascades':'Cascades Butterfly Project',\n",
    "'Iowa':'Iowa Butterfly Survey Network',\n",
    "'Florida':'Florida Butterfly Monitoring Network'\n",
    "}\n",
    "\n",
    "#This dictionary links each project with its base list\n",
    "#You don't have to do anything with this.\n",
    "base = {'Illinois':'NABA',\n",
    "'Michigan':'NABA',\n",
    "'MPG':'Pelham',\n",
    "'Colorado':'OW',\n",
    "'Tennessee':'NABA',\n",
    "'Orange':'OW',\n",
    "'Ohio':'NABA',\n",
    "'Cascades':'Pelham',\n",
    "'Iowa':'NABA',\n",
    "'Florida':'OW'\n",
    "}\n",
    "\n",
    "#This creates all the tables we need. You don't need to do anything with this.\n",
    "taxon_ids = []\n",
    "names = []\n",
    "parent_ids = []\n",
    "parent_ids_1 = []\n",
    "\n",
    "#This creates a list of genera that may need to be disambiguated using geography. You don't need to do anything\n",
    "#with this.\n",
    "geog = ['Celastrina ladon','Celastrina lucia','Celastrina neglecta','Celastrina idella','Celastrina echo','Celastrina humulus','Celastrina ladon ladon','Celastrina ladon lucia','Celastrina ladon neglecta','Celastrina ladon idella','Celastrina ladon echo','Celastrina ladon humulus']\n",
    "\n",
    "#This creates a look up dictionary that we may need to do the geographic disambiguation if the user chooses the \"split\"\n",
    "#granularity\n",
    "gran = {'split':[{'Iowa':[{'Celastrina':['ladon','neglecta']}],'Cascades':[{'Celastrina':['echo','lucia']}],'Colorado':[{'Celastrina':['ladon','humulus']}],'Orange':[{'Celastrina':['echo']}],'MPG':[{'Celastrina':['echo']}],'Illinois':[{'Celastrina':['neglecta','ladon']}],'Ohio':[{'Celastrina':['ladon','neglecta']}],'Tennessee':[{'Celastrina':['ladon','neglecta']}],'Florida':[{'Celastrina':['ladon','neglecta']}],'Michigan':[{'Celastrina':['ladon','neglecta','lucia']}]}],'lump':[{'Iowa':[{'Celastrina':['ladon']}],'Cascades':[{'Celastrina':['ladon']}],'Orange':[{'Celastrina':['ladon']}],'MPG':[{'Celastrina':['ladon']}],'Colorado':[{'Celastrina':['ladon']}],'Michigan':[{'Celastrina':['ladon']}],'Illinois':[{'Celastrina':['ladon']}],'Tennessee':[{'Celastrina':['ladon']}],'Ohio':[{'Celastrina':['ladon']}],'Florida':[{'Celastrina':['ladon']}]}]}\n",
    "\n",
    "#This dictionary will help us figure out the proper species comples if the user chooses the \"lump\" granularity\n",
    "lum = {'Celastrina echo':'Celastrina ladon','Celastrina lucia':'Celastrina ladon','Celastrina neglecta':'Celastrina ladon'}"
   ]
  },
  {
   "cell_type": "code",
   "execution_count": 204,
   "metadata": {
    "collapsed": false
   },
   "outputs": [
    {
     "name": "stdout",
     "output_type": "stream",
     "text": [
      "Celastrina ladon\n",
      "['Iowa Butterfly Survey Network']\n",
      "['T3780', 'T3783']\n"
     ]
    }
   ],
   "source": [
    "#This bit of code finds the parent id of the taxon in the starting project list.\n",
    "#At the bottom of this block, you should see the taxon and starting project list you entered above.\n",
    "found_name = 0\n",
    "found_source = 0\n",
    "sources = []\n",
    "print(taxon)\n",
    "for line in in_file:\n",
    "    row = line.split('\\t')\n",
    "    n = len(row)\n",
    "    if len(row) > 4:\n",
    "        taxon_id = row[0]\n",
    "        name = row[1]\n",
    "        parent_id = row[2]\n",
    "        source = row[4].strip()\n",
    "        if name == taxon:\n",
    "            found_name = 1\n",
    "            if source == source_dict[start_list]:\n",
    "                if source in sources:\n",
    "                    pass\n",
    "                else:\n",
    "                    sources.append(source)\n",
    "                found_source = 1\n",
    "                parent_ids.append(parent_id)\n",
    "print(sources)\n",
    "print(parent_ids)\n",
    "if found_name == 0:\n",
    "    print('Error Taxon not found. Please check spelling and try again.')\n",
    "if found_source == 0:\n",
    "    print('Error Starting project not found. Please use one of the following: ITIS, Pelham, OW, Illinois, Michigan, MPG, Colorado, Tennessee, Orange, Ohio, Cascades, Florida, Iowa.')"
   ]
  },
  {
   "cell_type": "code",
   "execution_count": 205,
   "metadata": {
    "collapsed": false
   },
   "outputs": [
    {
     "name": "stdout",
     "output_type": "stream",
     "text": [
      "['North American Butterfly Association, Inc. 2001-2016.  Checklist of North American Butterflies. Occurring North of Mexico - Edition 2.3  http://www.naba.org/pubs/enames2_3.html.\\n']\n",
      "['T1262', 'T1266']\n"
     ]
    }
   ],
   "source": [
    "#This code finds the taxon in the base list\n",
    "#At the end of this block, you should see the base list corresponding to your starting project list\n",
    "found_base = 0\n",
    "sources = []\n",
    "for pid in parent_ids:\n",
    "    in_file.seek(0)\n",
    "    for line in in_file:\n",
    "        row = line.split('\\t')\n",
    "        taxon_id = row[0]\n",
    "        name = row[1]\n",
    "        parent_id = row[2]\n",
    "        if len(row) > 4:\n",
    "            source = row[4]\n",
    "        if pid == taxon_id:\n",
    "            found_base = 1\n",
    "            if source in sources:\n",
    "                pass\n",
    "            else:\n",
    "                sources.append(source)\n",
    "            parent_ids_1.append(parent_id)\n",
    "print(sources)\n",
    "print(parent_ids_1)\n",
    "if found_base == 0:\n",
    "    print('Error finding base list')\n"
   ]
  },
  {
   "cell_type": "code",
   "execution_count": 206,
   "metadata": {
    "collapsed": false
   },
   "outputs": [
    {
     "name": "stdout",
     "output_type": "stream",
     "text": [
      "Pelham, J.P., 2014. A catalogue of the butterflies of the United States and Canada: with a complete bibliography of the descriptive and systematic literature.\n"
     ]
    }
   ],
   "source": [
    "#This code uses the switchboard to find the taxon in the base list of the ending project list.\n",
    "#At the end of this block, you should see the base list for your ending project list.\n",
    "found_switch = 0\n",
    "sources = []\n",
    "for pid in parent_ids_1:\n",
    "    in_file.seek(0)\n",
    "    for line in in_file:\n",
    "        row = line.split('\\t')\n",
    "        taxon_id = row[0]\n",
    "        name = row[1]\n",
    "        parent_id = row[2]\n",
    "        if len(row) > 4:\n",
    "            source = row[4].strip()\n",
    "        if pid == parent_id:\n",
    "            found_switch = 1\n",
    "            if source == source_dict[base[end_list]]:\n",
    "                if source in sources:\n",
    "                    pass\n",
    "                else:\n",
    "                    sources.append(source)\n",
    "                taxon_ids.append(taxon_id)\n",
    "for source in sources:\n",
    "    print(source)\n",
    "if found_switch == 0:\n",
    "    print('Error switching bases')\n"
   ]
  },
  {
   "cell_type": "code",
   "execution_count": 207,
   "metadata": {
    "collapsed": false
   },
   "outputs": [
    {
     "name": "stdout",
     "output_type": "stream",
     "text": [
      "Cascades Butterfly Project\n",
      "Cascades Butterfly Project\n",
      "There is no match in this list\n"
     ]
    }
   ],
   "source": [
    "#This code uses the taxon id of the taxon in the base list to find the corresponding taxon in the ending project list.\n",
    "#At the end of this block, you should see your ending project list and one or more names that are equivalent to your\n",
    "#taxon in the starting project list.\n",
    "found_name = 0\n",
    "for pid in taxon_ids:\n",
    "    in_file.seek(0)\n",
    "    for line in in_file:\n",
    "        row = line.split('\\t')\n",
    "        taxon_id = row[0]\n",
    "        name = row[1]\n",
    "        parent_id = row[2]\n",
    "        if len(row) > 4:\n",
    "            source = row[4].strip()\n",
    "        if pid == parent_id:\n",
    "            if source == source_dict[end_list]:\n",
    "                print(source)\n",
    "                found_name = 1\n",
    "                names.append(name)\n",
    "\n",
    "for name in names:\n",
    "    if name in geog:\n",
    "        y = []\n",
    "\n",
    "        if granularity == 'lump':\n",
    "            q = lum[name]\n",
    "            y.append(q)\n",
    "        elif granularity == 'split':\n",
    "            genus = name.split(' ')[0]\n",
    "            k = gran[granularity][0]\n",
    "            n = k[start_list][0]\n",
    "            u = n[genus]\n",
    "            m = k[end_list][0]\n",
    "            v = n[genus]\n",
    "            for i in v:\n",
    "                if v in u:\n",
    "                    y.append(genus + ' ' + v)\n",
    "                else:\n",
    "                    pass\n",
    "    else:\n",
    "        continue\n",
    "    names = y\n",
    "\n",
    "if len(names) == 0:\n",
    "    found_name = 0\n",
    "if found_name == 0:\n",
    "    print('There is no match in this list')\n",
    "else:\n",
    "    for b in names:\n",
    "        print(b + '\\n')\n"
   ]
  },
  {
   "cell_type": "code",
   "execution_count": null,
   "metadata": {
    "collapsed": true
   },
   "outputs": [],
   "source": []
  }
 ],
 "metadata": {
  "kernelspec": {
   "display_name": "Python 3",
   "language": "python",
   "name": "python3"
  },
  "language_info": {
   "codemirror_mode": {
    "name": "ipython",
    "version": 3
   },
   "file_extension": ".py",
   "mimetype": "text/x-python",
   "name": "python",
   "nbconvert_exporter": "python",
   "pygments_lexer": "ipython3",
   "version": "3.6.0"
  }
 },
 "nbformat": 4,
 "nbformat_minor": 0
}
