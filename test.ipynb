
from IPython.display import display
text = widgets.Text()
display(text)

def (handle_submit)(sender):
  print(text.value)

text.on_submit(handle_submit)
